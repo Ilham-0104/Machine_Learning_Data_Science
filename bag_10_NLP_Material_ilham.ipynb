{
  "nbformat": 4,
  "nbformat_minor": 0,
  "metadata": {
    "colab": {
      "provenance": [],
      "authorship_tag": "ABX9TyNlKJpR57/tyJGf6JqClv3P",
      "include_colab_link": true
    },
    "kernelspec": {
      "name": "python3",
      "display_name": "Python 3"
    },
    "language_info": {
      "name": "python"
    }
  },
  "cells": [
    {
      "cell_type": "markdown",
      "metadata": {
        "id": "view-in-github",
        "colab_type": "text"
      },
      "source": [
        "<a href=\"https://colab.research.google.com/github/Ilham-0104/Machine_Learning_Data_Science/blob/main/bag_10_NLP_Material_ilham.ipynb\" target=\"_parent\"><img src=\"https://colab.research.google.com/assets/colab-badge.svg\" alt=\"Open In Colab\"/></a>"
      ]
    },
    {
      "cell_type": "code",
      "execution_count": null,
      "metadata": {
        "colab": {
          "base_uri": "https://localhost:8080/"
        },
        "id": "ry9gptFyIFxL",
        "outputId": "7000d9b8-b50f-4971-940f-b9c0289767e7"
      },
      "outputs": [
        {
          "output_type": "stream",
          "name": "stderr",
          "text": [
            "[nltk_data] Downloading package punkt to /root/nltk_data...\n",
            "[nltk_data]   Unzipping tokenizers/punkt.zip.\n",
            "[nltk_data] Downloading package stopwords to /root/nltk_data...\n",
            "[nltk_data]   Unzipping corpora/stopwords.zip.\n",
            "[nltk_data] Downloading package wordnet to /root/nltk_data...\n",
            "[nltk_data] Downloading package averaged_perceptron_tagger to\n",
            "[nltk_data]     /root/nltk_data...\n",
            "[nltk_data]   Unzipping taggers/averaged_perceptron_tagger.zip.\n"
          ]
        },
        {
          "output_type": "execute_result",
          "data": {
            "text/plain": [
              "True"
            ]
          },
          "metadata": {},
          "execution_count": 1
        }
      ],
      "source": [
        "import nltk # library NLP\n",
        "nltk.download('punkt') # download package punkt\n",
        "nltk.download('stopwords') # download package stopwords\n",
        "nltk.download('wordnet') # download package wordnet\n",
        "nltk.download('averaged_perceptron_tagger') # download package averaged_perceptron_tagger"
      ]
    },
    {
      "cell_type": "code",
      "source": [
        "!pip install -q wordcloud\n",
        "import wordcloud"
      ],
      "metadata": {
        "id": "CHWrUirBIaUO"
      },
      "execution_count": null,
      "outputs": []
    },
    {
      "cell_type": "code",
      "source": [
        "import pandas as pd\n",
        "import numpy as np\n",
        "import matplotlib.pyplot as plt\n",
        "import re\n",
        "import string\n",
        "import random\n",
        "import io"
      ],
      "metadata": {
        "id": "llEpZ5yDJDpx"
      },
      "execution_count": null,
      "outputs": []
    },
    {
      "cell_type": "markdown",
      "source": [
        "# Tekonezation"
      ],
      "metadata": {
        "id": "ddzvuJzGJy1P"
      }
    },
    {
      "cell_type": "code",
      "source": [
        "from nltk.tokenize import LineTokenizer, SpaceTokenizer, TweetTokenizer\n",
        "from nltk import word_tokenize"
      ],
      "metadata": {
        "id": "1l19_3ojJqYP"
      },
      "execution_count": null,
      "outputs": []
    },
    {
      "cell_type": "code",
      "source": [
        "line_tokenizer = LineTokenizer()\n",
        "\n",
        "kalimat = \"\"\"LeetCode is essetiallu a huge repository of real interview questions asked by the most popular tech companies\n",
        "(Google, Amazon, Facebook, Microsoft, and more ). teh problem with LeetCode is also its advantage, IT'S HUGE,\n",
        "so huge in fact that interviwers from the most companies often directly ask questions they find on LeetCode,\n",
        "So it's hard to navigate through the huge amount this is what this course is for\"\"\"\n",
        "\n",
        "print(\"LineTokenizer Output:\", line_tokenizer.tokenize(kalimat)) # Membuat sebuah paragraf menjadi kalimat"
      ],
      "metadata": {
        "colab": {
          "base_uri": "https://localhost:8080/"
        },
        "id": "f73UMfxoKFp4",
        "outputId": "358c7d94-54fa-4df3-87f1-a4a81cb54bb0"
      },
      "execution_count": null,
      "outputs": [
        {
          "output_type": "stream",
          "name": "stdout",
          "text": [
            "LineTokenizer Output: ['LeetCode is essetiallu a huge repository of real interview questions asked by the most popular tech companies ', \"(Google, Amazon, Facebook, Microsoft, and more ). teh problem with LeetCode is also its advantage, IT'S HUGE, \", 'so huge in fact that interviwers from the most companies often directly ask questions they find on LeetCode, ', \"So it's hard to navigate through the huge amount this is what this course is for\"]\n"
          ]
        }
      ]
    },
    {
      "cell_type": "code",
      "source": [
        "# Memberikan spaci pada sebuah kalimat\n",
        "rawText = \"This is the best course ever\"\n",
        "sTokenizer = SpaceTokenizer()\n",
        "print(\"SpaceTokenizer Output:\", sTokenizer.tokenize(rawText))"
      ],
      "metadata": {
        "colab": {
          "base_uri": "https://localhost:8080/"
        },
        "id": "GRsiTIYjK6uL",
        "outputId": "9708a043-a880-40fa-e7c1-49fdabbf5ae3"
      },
      "execution_count": null,
      "outputs": [
        {
          "output_type": "stream",
          "name": "stdout",
          "text": [
            "SpaceTokenizer Output: ['This', 'is', 'the', 'best', 'course', 'ever']\n"
          ]
        }
      ]
    },
    {
      "cell_type": "code",
      "source": [
        "from nltk import word_tokenize, PorterStemmer, LancasterStemmer"
      ],
      "metadata": {
        "id": "G7miyOUbNH1l"
      },
      "execution_count": null,
      "outputs": []
    },
    {
      "cell_type": "code",
      "source": [
        "# Memecahkan atau mengelompokkan kalimat menjadi per kata\n",
        "tokens = word_tokenize (kalimat)\n",
        "tokens"
      ],
      "metadata": {
        "colab": {
          "base_uri": "https://localhost:8080/"
        },
        "id": "1uH4mq66N6bW",
        "outputId": "ad2a0dec-4dab-4c24-8a8d-7978e266e3b5"
      },
      "execution_count": null,
      "outputs": [
        {
          "output_type": "execute_result",
          "data": {
            "text/plain": [
              "['LeetCode',\n",
              " 'is',\n",
              " 'essetiallu',\n",
              " 'a',\n",
              " 'huge',\n",
              " 'repository',\n",
              " 'of',\n",
              " 'real',\n",
              " 'interview',\n",
              " 'questions',\n",
              " 'asked',\n",
              " 'by',\n",
              " 'the',\n",
              " 'most',\n",
              " 'popular',\n",
              " 'tech',\n",
              " 'companies',\n",
              " '(',\n",
              " 'Google',\n",
              " ',',\n",
              " 'Amazon',\n",
              " ',',\n",
              " 'Facebook',\n",
              " ',',\n",
              " 'Microsoft',\n",
              " ',',\n",
              " 'and',\n",
              " 'more',\n",
              " ')',\n",
              " '.',\n",
              " 'teh',\n",
              " 'problem',\n",
              " 'with',\n",
              " 'LeetCode',\n",
              " 'is',\n",
              " 'also',\n",
              " 'its',\n",
              " 'advantage',\n",
              " ',',\n",
              " 'IT',\n",
              " \"'S\",\n",
              " 'HUGE',\n",
              " ',',\n",
              " 'so',\n",
              " 'huge',\n",
              " 'in',\n",
              " 'fact',\n",
              " 'that',\n",
              " 'interviwers',\n",
              " 'from',\n",
              " 'the',\n",
              " 'most',\n",
              " 'companies',\n",
              " 'often',\n",
              " 'directly',\n",
              " 'ask',\n",
              " 'questions',\n",
              " 'they',\n",
              " 'find',\n",
              " 'on',\n",
              " 'LeetCode',\n",
              " ',',\n",
              " 'So',\n",
              " 'it',\n",
              " \"'s\",\n",
              " 'hard',\n",
              " 'to',\n",
              " 'navigate',\n",
              " 'through',\n",
              " 'the',\n",
              " 'huge',\n",
              " 'amount',\n",
              " 'this',\n",
              " 'is',\n",
              " 'what',\n",
              " 'this',\n",
              " 'course',\n",
              " 'is',\n",
              " 'for']"
            ]
          },
          "metadata": {},
          "execution_count": 17
        }
      ]
    },
    {
      "cell_type": "code",
      "source": [],
      "metadata": {
        "id": "dBytuBCYOOz7"
      },
      "execution_count": null,
      "outputs": []
    },
    {
      "cell_type": "markdown",
      "source": [
        "# Stemming\n",
        "\n",
        "Proses mengubah kata menjadu=i kata dasar tetapi tanpa makna\n",
        "\n",
        "Menghadapi, Menghadapkan ==> Hadap\n"
      ],
      "metadata": {
        "id": "2yuBFoPFO5hK"
      }
    },
    {
      "cell_type": "code",
      "source": [
        "porter = PorterStemmer()\n",
        "pStems = [porter.stem(token) for token in tokens]\n",
        "print(pStems)"
      ],
      "metadata": {
        "colab": {
          "base_uri": "https://localhost:8080/"
        },
        "id": "E_MyYuGcPH__",
        "outputId": "b8fec900-0a96-404f-851e-6ad74d109e88"
      },
      "execution_count": null,
      "outputs": [
        {
          "output_type": "stream",
          "name": "stdout",
          "text": [
            "['leetcod', 'is', 'essetiallu', 'a', 'huge', 'repositori', 'of', 'real', 'interview', 'question', 'ask', 'by', 'the', 'most', 'popular', 'tech', 'compani', '(', 'googl', ',', 'amazon', ',', 'facebook', ',', 'microsoft', ',', 'and', 'more', ')', '.', 'teh', 'problem', 'with', 'leetcod', 'is', 'also', 'it', 'advantag', ',', 'it', \"'s\", 'huge', ',', 'so', 'huge', 'in', 'fact', 'that', 'interviw', 'from', 'the', 'most', 'compani', 'often', 'directli', 'ask', 'question', 'they', 'find', 'on', 'leetcod', ',', 'so', 'it', \"'s\", 'hard', 'to', 'navig', 'through', 'the', 'huge', 'amount', 'thi', 'is', 'what', 'thi', 'cours', 'is', 'for']\n"
          ]
        }
      ]
    },
    {
      "cell_type": "code",
      "source": [
        "lancaster = LancasterStemmer()\n",
        "lStems = [lancaster.stem(token) for token in tokens]\n",
        "print(lStems)"
      ],
      "metadata": {
        "colab": {
          "base_uri": "https://localhost:8080/"
        },
        "id": "uUOzaTkXPcuN",
        "outputId": "4823b040-4ad1-4e10-a58f-f297ebaad07b"
      },
      "execution_count": null,
      "outputs": [
        {
          "output_type": "stream",
          "name": "stdout",
          "text": [
            "['leetcod', 'is', 'essetiallu', 'a', 'hug', 'reposit', 'of', 'real', 'interview', 'quest', 'ask', 'by', 'the', 'most', 'popul', 'tech', 'company', '(', 'googl', ',', 'amazon', ',', 'facebook', ',', 'microsoft', ',', 'and', 'mor', ')', '.', 'teh', 'problem', 'with', 'leetcod', 'is', 'also', 'it', 'adv', ',', 'it', \"'s\", 'hug', ',', 'so', 'hug', 'in', 'fact', 'that', 'interviw', 'from', 'the', 'most', 'company', 'oft', 'direct', 'ask', 'quest', 'they', 'find', 'on', 'leetcod', ',', 'so', 'it', \"'s\", 'hard', 'to', 'navig', 'through', 'the', 'hug', 'amount', 'thi', 'is', 'what', 'thi', 'cours', 'is', 'for']\n"
          ]
        }
      ]
    },
    {
      "cell_type": "markdown",
      "source": [
        "# Lemmatization\n",
        "\n",
        "sama seperti stemming tapi memiliki makna dasar"
      ],
      "metadata": {
        "id": "Ic_P2DJPRLtZ"
      }
    },
    {
      "cell_type": "code",
      "source": [
        "from nltk import WordNetLemmatizer"
      ],
      "metadata": {
        "id": "EpG4LGNEP2YN"
      },
      "execution_count": null,
      "outputs": []
    },
    {
      "cell_type": "code",
      "source": [
        "nltk.download('omw-1.4')\n",
        "\n",
        "lemmatizer = WordNetLemmatizer()\n",
        "lemmas = [lemmatizer.lemmatize(token) for token in tokens]\n",
        "print(lemmas)"
      ],
      "metadata": {
        "colab": {
          "base_uri": "https://localhost:8080/"
        },
        "id": "7hq3ebamRKBv",
        "outputId": "06af1bc7-2d62-42bd-96b8-adb066ef5448"
      },
      "execution_count": null,
      "outputs": [
        {
          "output_type": "stream",
          "name": "stderr",
          "text": [
            "[nltk_data] Downloading package omw-1.4 to /root/nltk_data...\n"
          ]
        },
        {
          "output_type": "stream",
          "name": "stdout",
          "text": [
            "['LeetCode', 'is', 'essetiallu', 'a', 'huge', 'repository', 'of', 'real', 'interview', 'question', 'asked', 'by', 'the', 'most', 'popular', 'tech', 'company', '(', 'Google', ',', 'Amazon', ',', 'Facebook', ',', 'Microsoft', ',', 'and', 'more', ')', '.', 'teh', 'problem', 'with', 'LeetCode', 'is', 'also', 'it', 'advantage', ',', 'IT', \"'S\", 'HUGE', ',', 'so', 'huge', 'in', 'fact', 'that', 'interviwers', 'from', 'the', 'most', 'company', 'often', 'directly', 'ask', 'question', 'they', 'find', 'on', 'LeetCode', ',', 'So', 'it', \"'s\", 'hard', 'to', 'navigate', 'through', 'the', 'huge', 'amount', 'this', 'is', 'what', 'this', 'course', 'is', 'for']\n"
          ]
        }
      ]
    },
    {
      "cell_type": "code",
      "source": [
        "list_token = []\n",
        "for t in tokens:\n",
        "  list_token.append(t)\n",
        "\n",
        "#list_token\n",
        "\n",
        "list_token2 = [t for t in tokens] #List Comprehension\n",
        "#list_token2"
      ],
      "metadata": {
        "id": "PNE8UpAbR7x7"
      },
      "execution_count": null,
      "outputs": []
    },
    {
      "cell_type": "markdown",
      "source": [
        "# Stopwords\n",
        "\n",
        "kata kata tidak memiliki makna jadi bisa dibuang"
      ],
      "metadata": {
        "id": "WWETK4_vUoin"
      }
    },
    {
      "cell_type": "code",
      "source": [
        "!pip install PySastrawi"
      ],
      "metadata": {
        "colab": {
          "base_uri": "https://localhost:8080/"
        },
        "id": "-Yw_b8pvToGs",
        "outputId": "39885379-2473-46ee-ff4b-4be02d4f9557"
      },
      "execution_count": null,
      "outputs": [
        {
          "output_type": "stream",
          "name": "stdout",
          "text": [
            "Requirement already satisfied: PySastrawi in /usr/local/lib/python3.10/dist-packages (1.2.0)\n"
          ]
        }
      ]
    },
    {
      "cell_type": "code",
      "source": [
        "# Stemming\n",
        "from Sastrawi.Stemmer.StemmerFactory import StemmerFactory\n",
        "\n",
        "factory = StemmerFactory()\n",
        "stemmer = factory.create_stemmer()\n",
        "\n",
        "sentence = \"kebutuhan ahli data di indonesia semakin diperlukan dari tahun ke tahun\"\n",
        "output = stemmer.stem(sentence)\n",
        "print(output)"
      ],
      "metadata": {
        "colab": {
          "base_uri": "https://localhost:8080/"
        },
        "id": "RpAU8IVCVKu7",
        "outputId": "5b583baf-d174-4935-b1b5-03c68406120d"
      },
      "execution_count": null,
      "outputs": [
        {
          "output_type": "stream",
          "name": "stdout",
          "text": [
            "butuh ahli data di indonesia makin perlu dari tahun ke tahun\n"
          ]
        }
      ]
    },
    {
      "cell_type": "code",
      "source": [
        "# Stopwords\n",
        "from Sastrawi.StopWordRemover.StopWordRemoverFactory import StopWordRemoverFactory\n",
        "\n",
        "factory = StopWordRemoverFactory()\n",
        "stopwords = factory.get_stop_words()\n",
        "print(stopwords)"
      ],
      "metadata": {
        "colab": {
          "base_uri": "https://localhost:8080/"
        },
        "id": "iFt8loCBVKqG",
        "outputId": "a23bdc6e-ace8-447c-f29f-e322e6ff8ad1"
      },
      "execution_count": null,
      "outputs": [
        {
          "output_type": "stream",
          "name": "stdout",
          "text": [
            "['a', 'ada', 'adalah', 'adanya', 'adapun', 'agak', 'agaknya', 'agar', 'akan', 'akankah', 'akhir', 'akhiri', 'akhirnya', 'aku', 'akulah', 'amat', 'amatlah', 'anda', 'andalah', 'antar', 'antara', 'antaranya', 'apa', 'apaan', 'apabila', 'apakah', 'apalagi', 'apatah', 'arti', 'artinya', 'asal', 'asalkan', 'atas', 'atau', 'ataukah', 'ataupun', 'awal', 'awalnya', 'b', 'bagai', 'bagaikan', 'bagaimana', 'bagaimanakah', 'bagaimanapun', 'bagainamakah', 'bagi', 'bagian', 'bahkan', 'bahwa', 'bahwasannya', 'bahwasanya', 'baik', 'baiklah', 'bakal', 'bakalan', 'balik', 'banyak', 'bapak', 'baru', 'bawah', 'beberapa', 'begini', 'beginian', 'beginikah', 'beginilah', 'begitu', 'begitukah', 'begitulah', 'begitupun', 'bekerja', 'belakang', 'belakangan', 'belum', 'belumlah', 'benar', 'benarkah', 'benarlah', 'berada', 'berakhir', 'berakhirlah', 'berakhirnya', 'berapa', 'berapakah', 'berapalah', 'berapapun', 'berarti', 'berawal', 'berbagai', 'berdatangan', 'beri', 'berikan', 'berikut', 'berikutnya', 'berjumlah', 'berkali-kali', 'berkata', 'berkehendak', 'berkeinginan', 'berkenaan', 'berlainan', 'berlalu', 'berlangsung', 'berlebihan', 'bermacam', 'bermacam-macam', 'bermaksud', 'bermula', 'bersama', 'bersama-sama', 'bersiap', 'bersiap-siap', 'bertanya', 'bertanya-tanya', 'berturut', 'berturut-turut', 'bertutur', 'berujar', 'berupa', 'besar', 'betul', 'betulkah', 'biasa', 'biasanya', 'bila', 'bilakah', 'bisa', 'bisakah', 'boleh', 'bolehkah', 'bolehlah', 'buat', 'bukan', 'bukankah', 'bukanlah', 'bukannya', 'bulan', 'bung', 'c', 'cara', 'caranya', 'cukup', 'cukupkah', 'cukuplah', 'cuma', 'd', 'dahulu', 'dalam', 'dan', 'dapat', 'dari', 'daripada', 'datang', 'dekat', 'demi', 'demikian', 'demikianlah', 'dengan', 'depan', 'di', 'dia', 'diakhiri', 'diakhirinya', 'dialah', 'diantara', 'diantaranya', 'diberi', 'diberikan', 'diberikannya', 'dibuat', 'dibuatnya', 'didapat', 'didatangkan', 'digunakan', 'diibaratkan', 'diibaratkannya', 'diingat', 'diingatkan', 'diinginkan', 'dijawab', 'dijelaskan', 'dijelaskannya', 'dikarenakan', 'dikatakan', 'dikatakannya', 'dikerjakan', 'diketahui', 'diketahuinya', 'dikira', 'dilakukan', 'dilalui', 'dilihat', 'dimaksud', 'dimaksudkan', 'dimaksudkannya', 'dimaksudnya', 'diminta', 'dimintai', 'dimisalkan', 'dimulai', 'dimulailah', 'dimulainya', 'dimungkinkan', 'dini', 'dipastikan', 'diperbuat', 'diperbuatnya', 'dipergunakan', 'diperkirakan', 'diperlihatkan', 'diperlukan', 'diperlukannya', 'dipersoalkan', 'dipertanyakan', 'dipunyai', 'diri', 'dirinya', 'disampaikan', 'disebut', 'disebutkan', 'disebutkannya', 'disini', 'disinilah', 'ditambahkan', 'ditandaskan', 'ditanya', 'ditanyai', 'ditanyakan', 'ditegaskan', 'ditujukan', 'ditunjuk', 'ditunjuki', 'ditunjukkan', 'ditunjukkannya', 'ditunjuknya', 'dituturkan', 'dituturkannya', 'diucapkan', 'diucapkannya', 'diungkapkan', 'dong', 'dua', 'dulu', 'e', 'empat', 'enak', 'enggak', 'enggaknya', 'entah', 'entahlah', 'f', 'g', 'guna', 'gunakan', 'h', 'hadap', 'hai', 'hal', 'halo', 'hallo', 'hampir', 'hanya', 'hanyalah', 'hari', 'harus', 'haruslah', 'harusnya', 'helo', 'hello', 'hendak', 'hendaklah', 'hendaknya', 'hingga', 'i', 'ia', 'ialah', 'ibarat', 'ibaratkan', 'ibaratnya', 'ibu', 'ikut', 'ingat', 'ingat-ingat', 'ingin', 'inginkah', 'inginkan', 'ini', 'inikah', 'inilah', 'itu', 'itukah', 'itulah', 'j', 'jadi', 'jadilah', 'jadinya', 'jangan', 'jangankan', 'janganlah', 'jauh', 'jawab', 'jawaban', 'jawabnya', 'jelas', 'jelaskan', 'jelaslah', 'jelasnya', 'jika', 'jikalau', 'juga', 'jumlah', 'jumlahnya', 'justru', 'k', 'kadar', 'kala', 'kalau', 'kalaulah', 'kalaupun', 'kali', 'kalian', 'kami', 'kamilah', 'kamu', 'kamulah', 'kan', 'kapan', 'kapankah', 'kapanpun', 'karena', 'karenanya', 'kasus', 'kata', 'katakan', 'katakanlah', 'katanya', 'ke', 'keadaan', 'kebetulan', 'kecil', 'kedua', 'keduanya', 'keinginan', 'kelamaan', 'kelihatan', 'kelihatannya', 'kelima', 'keluar', 'kembali', 'kemudian', 'kemungkinan', 'kemungkinannya', 'kena', 'kenapa', 'kepada', 'kepadanya', 'kerja', 'kesampaian', 'keseluruhan', 'keseluruhannya', 'keterlaluan', 'ketika', 'khusus', 'khususnya', 'kini', 'kinilah', 'kira', 'kira-kira', 'kiranya', 'kita', 'kitalah', 'kok', 'kurang', 'l', 'lagi', 'lagian', 'lah', 'lain', 'lainnya', 'laku', 'lalu', 'lama', 'lamanya', 'langsung', 'lanjut', 'lanjutnya', 'lebih', 'lewat', 'lihat', 'lima', 'luar', 'm', 'macam', 'maka', 'makanya', 'makin', 'maksud', 'malah', 'malahan', 'mampu', 'mampukah', 'mana', 'manakala', 'manalagi', 'masa', 'masalah', 'masalahnya', 'masih', 'masihkah', 'masing', 'masing-masing', 'masuk', 'mata', 'mau', 'maupun', 'melainkan', 'melakukan', 'melalui', 'melihat', 'melihatnya', 'memang', 'memastikan', 'memberi', 'memberikan', 'membuat', 'memerlukan', 'memihak', 'meminta', 'memintakan', 'memisalkan', 'memperbuat', 'mempergunakan', 'memperkirakan', 'memperlihatkan', 'mempersiapkan', 'mempersoalkan', 'mempertanyakan', 'mempunyai', 'memulai', 'memungkinkan', 'menaiki', 'menambahkan', 'menandaskan', 'menanti', 'menanti-nanti', 'menantikan', 'menanya', 'menanyai', 'menanyakan', 'mendapat', 'mendapatkan', 'mendatang', 'mendatangi', 'mendatangkan', 'menegaskan', 'mengakhiri', 'mengapa', 'mengatakan', 'mengatakannya', 'mengenai', 'mengerjakan', 'mengetahui', 'menggunakan', 'menghendaki', 'mengibaratkan', 'mengibaratkannya', 'mengingat', 'mengingatkan', 'menginginkan', 'mengira', 'mengucapkan', 'mengucapkannya', 'mengungkapkan', 'menjadi', 'menjawab', 'menjelaskan', 'menuju', 'menunjuk', 'menunjuki', 'menunjukkan', 'menunjuknya', 'menurut', 'menuturkan', 'menyampaikan', 'menyangkut', 'menyatakan', 'menyebutkan', 'menyeluruh', 'menyiapkan', 'merasa', 'mereka', 'merekalah', 'merupakan', 'meski', 'meskipun', 'meyakini', 'meyakinkan', 'minta', 'mirip', 'misal', 'misalkan', 'misalnya', 'mohon', 'mula', 'mulai', 'mulailah', 'mulanya', 'mungkin', 'mungkinkah', 'n', 'nah', 'naik', 'namun', 'nanti', 'nantinya', 'nya', 'nyaris', 'nyata', 'nyatanya', 'o', 'oleh', 'olehnya', 'orang', 'p', 'pada', 'padahal', 'padanya', 'pak', 'paling', 'panjang', 'pantas', 'para', 'pasti', 'pastilah', 'penting', 'pentingnya', 'per', 'percuma', 'perlu', 'perlukah', 'perlunya', 'pernah', 'persoalan', 'pertama', 'pertama-tama', 'pertanyaan', 'pertanyakan', 'pihak', 'pihaknya', 'pukul', 'pula', 'pun', 'punya', 'q', 'r', 'rasa', 'rasanya', 'rupa', 'rupanya', 's', 'saat', 'saatnya', 'saja', 'sajalah', 'salam', 'saling', 'sama', 'sama-sama', 'sambil', 'sampai', 'sampai-sampai', 'sampaikan', 'sana', 'sangat', 'sangatlah', 'sangkut', 'satu', 'saya', 'sayalah', 'se', 'sebab', 'sebabnya', 'sebagai', 'sebagaimana', 'sebagainya', 'sebagian', 'sebaik', 'sebaik-baiknya', 'sebaiknya', 'sebaliknya', 'sebanyak', 'sebegini', 'sebegitu', 'sebelum', 'sebelumnya', 'sebenarnya', 'seberapa', 'sebesar', 'sebetulnya', 'sebisanya', 'sebuah', 'sebut', 'sebutlah', 'sebutnya', 'secara', 'secukupnya', 'sedang', 'sedangkan', 'sedemikian', 'sedikit', 'sedikitnya', 'seenaknya', 'segala', 'segalanya', 'segera', 'seharusnya', 'sehingga', 'seingat', 'sejak', 'sejauh', 'sejenak', 'sejumlah', 'sekadar', 'sekadarnya', 'sekali', 'sekali-kali', 'sekalian', 'sekaligus', 'sekalipun', 'sekarang', 'sekaranglah', 'sekecil', 'seketika', 'sekiranya', 'sekitar', 'sekitarnya', 'sekurang-kurangnya', 'sekurangnya', 'sela', 'selain', 'selaku', 'selalu', 'selama', 'selama-lamanya', 'selamanya', 'selanjutnya', 'seluruh', 'seluruhnya', 'semacam', 'semakin', 'semampu', 'semampunya', 'semasa', 'semasih', 'semata', 'semata-mata', 'semaunya', 'sementara', 'semisal', 'semisalnya', 'sempat', 'semua', 'semuanya', 'semula', 'sendiri', 'sendirian', 'sendirinya', 'seolah', 'seolah-olah', 'seorang', 'sepanjang', 'sepantasnya', 'sepantasnyalah', 'seperlunya', 'seperti', 'sepertinya', 'sepihak', 'sering', 'seringnya', 'serta', 'serupa', 'sesaat', 'sesama', 'sesampai', 'sesegera', 'sesekali', 'seseorang', 'sesuatu', 'sesuatunya', 'sesudah', 'sesudahnya', 'setelah', 'setempat', 'setengah', 'seterusnya', 'setiap', 'setiba', 'setibanya', 'setidak-tidaknya', 'setidaknya', 'setinggi', 'seusai', 'sewaktu', 'siap', 'siapa', 'siapakah', 'siapapun', 'sini', 'sinilah', 'soal', 'soalnya', 'suatu', 'sudah', 'sudahkah', 'sudahlah', 'supaya', 't', 'tadi', 'tadinya', 'tahu', 'tak', 'tambah', 'tambahnya', 'tampak', 'tampaknya', 'tandas', 'tandasnya', 'tanpa', 'tanya', 'tanyakan', 'tanyanya', 'tapi', 'tegas', 'tegasnya', 'telah', 'tempat', 'tentang', 'tentu', 'tentulah', 'tentunya', 'tepat', 'terakhir', 'terasa', 'terbanyak', 'terdahulu', 'terdapat', 'terdiri', 'terhadap', 'terhadapnya', 'teringat', 'teringat-ingat', 'terjadi', 'terjadilah', 'terjadinya', 'terkira', 'terlalu', 'terlebih', 'terlihat', 'termasuk', 'ternyata', 'tersampaikan', 'tersebut', 'tersebutlah', 'tertentu', 'tertuju', 'terus', 'terutama', 'tetap', 'tetapi', 'tiap', 'tiba', 'tiba-tiba', 'tidak', 'tidakkah', 'tidaklah', 'tiga', 'toh', 'tuju', 'tunjuk', 'turut', 'tutur', 'tuturnya', 'u', 'ucap', 'ucapnya', 'ujar', 'ujarnya', 'umumnya', 'ungkap', 'ungkapnya', 'untuk', 'usah', 'usai', 'v', 'w', 'waduh', 'wah', 'wahai', 'waktunya', 'walau', 'walaupun', 'wong', 'x', 'y', 'ya', 'yaitu', 'yakin', 'yakni', 'yang', 'z']\n"
          ]
        }
      ]
    },
    {
      "cell_type": "code",
      "source": [
        "len(stopwords)"
      ],
      "metadata": {
        "colab": {
          "base_uri": "https://localhost:8080/"
        },
        "id": "YTYcqnRrZkvO",
        "outputId": "e1252958-6ce1-4f7a-efc8-1850a36335d3"
      },
      "execution_count": null,
      "outputs": [
        {
          "output_type": "execute_result",
          "data": {
            "text/plain": [
              "809"
            ]
          },
          "metadata": {},
          "execution_count": 46
        }
      ]
    },
    {
      "cell_type": "code",
      "source": [],
      "metadata": {
        "id": "__FJ7VsAaNy3"
      },
      "execution_count": null,
      "outputs": []
    }
  ]
}